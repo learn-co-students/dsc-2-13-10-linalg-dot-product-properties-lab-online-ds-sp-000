{
 "cells": [
  {
   "cell_type": "markdown",
   "metadata": {},
   "source": [
    "# Properties of Dot Product - Lab"
   ]
  },
  {
   "cell_type": "markdown",
   "metadata": {},
   "source": [
    "## Introduction\n",
    "\n",
    "In this lab we shall look at some interesting properties of a Dot product type matrix multiplication. Understanding these properties will become useful as we move forward with machine learning advanced linear algebra. The lab will require you to calculate results to provide a proof for these properties.\n",
    "\n",
    "## Objectives\n",
    "You will be able to:\n",
    "* Understand and analytically explain Distributive, Commutative and Associative properties of dot product\n",
    "\n",
    "## Instructions\n",
    "\n",
    "* For each property, create suitably sized matrices with random data and prove the equations \n",
    "* Ensure that size/dimension assumptions are met while performing calculations (you'll see errors otherwise)\n",
    "* Calculate the LHS and RHS for all equations and show if they are equal or not"
   ]
  },
  {
   "cell_type": "markdown",
   "metadata": {},
   "source": [
    "## Distributive Property - Matrices multiplication is distributive\n",
    "### Prove that A.(B+C)=A.B+A.C"
   ]
  },
  {
   "cell_type": "code",
   "execution_count": 1,
   "metadata": {},
   "outputs": [],
   "source": [
    "import numpy as np"
   ]
  },
  {
   "cell_type": "code",
   "execution_count": 12,
   "metadata": {},
   "outputs": [
    {
     "name": "stdout",
     "output_type": "stream",
     "text": [
      "A\n",
      " [[51  5 41 64 93]\n",
      " [22 62 52  4 54]\n",
      " [39 57 53 71 28]\n",
      " [29  4 75 10 58]\n",
      " [97  6 52 19 43]] \n",
      "\n",
      "B\n",
      " [[39 23 23 37 45]\n",
      " [12 88 79 44  6]\n",
      " [ 1 67 30 24 39]\n",
      " [81 57 36 88 95]\n",
      " [96  3 28 41 64]] \n",
      "\n",
      "C\n",
      " [[90 60 91 56 92]\n",
      " [45 59 70 38 64]\n",
      " [72 35 63 86 80]\n",
      " [84 73 59 40 82]\n",
      " [33 27 43  3 53]] \n",
      "\n",
      "A.(B + C)\n",
      " [[32414 20260 23055 21947 34425]\n",
      " [17794 18384 20796 15738 20568]\n",
      " [27476 27092 26601 24451 31483]\n",
      " [18576 13685 15945 15107 21734]\n",
      " [25333 17997 21646 19557 28291]] \n",
      "\n",
      "A.B + A.C\n",
      " [[32414 20260 23055 21947 34425]\n",
      " [17794 18384 20796 15738 20568]\n",
      " [27476 27092 26601 24451 31483]\n",
      " [18576 13685 15945 15107 21734]\n",
      " [25333 17997 21646 19557 28291]] \n",
      "\n"
     ]
    },
    {
     "data": {
      "text/plain": [
       "array([[ True,  True,  True,  True,  True],\n",
       "       [ True,  True,  True,  True,  True],\n",
       "       [ True,  True,  True,  True,  True],\n",
       "       [ True,  True,  True,  True,  True],\n",
       "       [ True,  True,  True,  True,  True]])"
      ]
     },
     "execution_count": 12,
     "metadata": {},
     "output_type": "execute_result"
    }
   ],
   "source": [
    "A = np.random.randint(0, high = 100, size = (5, 5))\n",
    "B = np.random.randint(0, high = 100, size = (5, 5))\n",
    "C = np.random.randint(0, high = 100, size = (5, 5))\n",
    "print('A\\n', A, '\\n')\n",
    "print('B\\n', B, '\\n')\n",
    "print('C\\n', C, '\\n')\n",
    "A_dot_B_plus_C = np.dot(A, B + C)\n",
    "A_dot_B_plus_A_dot_C = np.dot(A, B) + np.dot(A, C)\n",
    "\n",
    "print('A.(B + C)\\n', A_dot_B_plus_C, '\\n')\n",
    "print('A.B + A.C\\n', A_dot_B_plus_A_dot_C, '\\n')\n",
    "A_dot_B_plus_C == A_dot_B_plus_A_dot_C"
   ]
  },
  {
   "cell_type": "markdown",
   "metadata": {},
   "source": [
    "## Associative Property - Matrices multiplication is associative\n",
    "### Prove that A.(B.C)=(A.B).C"
   ]
  },
  {
   "cell_type": "code",
   "execution_count": 13,
   "metadata": {},
   "outputs": [
    {
     "name": "stdout",
     "output_type": "stream",
     "text": [
      "A.(B.C)\n",
      " [[3965499 3076703 3965682 2434242 4511052]\n",
      " [2564202 2043834 2628044 1832078 2964178]\n",
      " [3797394 3069589 3866531 2546885 4388515]\n",
      " [2191980 1742150 2253844 1413026 2543658]\n",
      " [2719713 2149390 2756745 1722990 3132378]] \n",
      "\n",
      "(A.B).C\n",
      " [[3965499 3076703 3965682 2434242 4511052]\n",
      " [2564202 2043834 2628044 1832078 2964178]\n",
      " [3797394 3069589 3866531 2546885 4388515]\n",
      " [2191980 1742150 2253844 1413026 2543658]\n",
      " [2719713 2149390 2756745 1722990 3132378]] \n",
      "\n"
     ]
    },
    {
     "data": {
      "text/plain": [
       "array([[ True,  True,  True,  True,  True],\n",
       "       [ True,  True,  True,  True,  True],\n",
       "       [ True,  True,  True,  True,  True],\n",
       "       [ True,  True,  True,  True,  True],\n",
       "       [ True,  True,  True,  True,  True]])"
      ]
     },
     "execution_count": 13,
     "metadata": {},
     "output_type": "execute_result"
    }
   ],
   "source": [
    "A_dot_B_dot_C = np.dot(A, np.dot(B, C))\n",
    "A_dot_B_dot_C_two = np.dot(np.dot(A, B), C)\n",
    "\n",
    "print('A.(B.C)\\n', A_dot_B_dot_C, '\\n')\n",
    "print('(A.B).C\\n', A_dot_B_dot_C_two, '\\n')\n",
    "A_dot_B_dot_C == A_dot_B_dot_C_two"
   ]
  },
  {
   "cell_type": "markdown",
   "metadata": {},
   "source": [
    "## Commutative Property - Matrix multiplication is NOT commutative\n",
    "### Prove that for matrices, A.B ≠ B.A"
   ]
  },
  {
   "cell_type": "code",
   "execution_count": 14,
   "metadata": {},
   "outputs": [
    {
     "name": "stdout",
     "output_type": "stream",
     "text": [
      "A.B\n",
      " [[16202  8287  7706 12536 15956]\n",
      " [ 7162  9836  8620  7356  7226]\n",
      " [10697 13595 10330 12619 12701]\n",
      " [ 7632  6788  5217  6307  8916]\n",
      " [ 9574  7455  6153  8536 10986]] \n",
      "\n",
      "B.A\n",
      " [[ 8830  3350  9129  5446  9594]\n",
      " [ 7487 10231 12867  7283 10890]\n",
      " [ 7174  6199  8943  3443  7620]\n",
      " [18556  6913 19733 10653 20808]\n",
      " [13451  2810 11979  9770 15004]] \n",
      "\n"
     ]
    },
    {
     "data": {
      "text/plain": [
       "array([[False, False, False, False, False],\n",
       "       [False, False, False, False, False],\n",
       "       [False, False, False, False, False],\n",
       "       [False, False, False, False, False],\n",
       "       [False, False, False, False, False]])"
      ]
     },
     "execution_count": 14,
     "metadata": {},
     "output_type": "execute_result"
    }
   ],
   "source": [
    "A_dot_B = np.dot(A, B)\n",
    "B_dot_A = np.dot(B, A)\n",
    "\n",
    "print('A.B\\n', A_dot_B, '\\n')\n",
    "print('B.A\\n', B_dot_A, '\\n')\n",
    "A_dot_B == B_dot_A"
   ]
  },
  {
   "cell_type": "markdown",
   "metadata": {},
   "source": [
    "## Commutative Property -  vector multiplication IS commutative\n",
    "### Prove that for vectors, x<sup>T</sup> . y = y<sup>T</sup> . x\n",
    "Note: superscipt<sup>T</sup> denotes the transpose we saw earlier"
   ]
  },
  {
   "cell_type": "code",
   "execution_count": 33,
   "metadata": {},
   "outputs": [
    {
     "name": "stdout",
     "output_type": "stream",
     "text": [
      "X\n",
      " [[36]\n",
      " [89]\n",
      " [79]] \n",
      "\n",
      "X-Transposed\n",
      " [[36 89 79]] \n",
      "\n",
      "Y\n",
      " [[63]\n",
      " [54]\n",
      " [60]] \n",
      "\n",
      "Y-Transposed\n",
      " [[63 54 60]] \n",
      "\n",
      "xT.y\n",
      " [[11814]] \n",
      "\n",
      "yT.x\n",
      " [[11814]] \n",
      "\n"
     ]
    },
    {
     "data": {
      "text/plain": [
       "array([[ True]])"
      ]
     },
     "execution_count": 33,
     "metadata": {},
     "output_type": "execute_result"
    }
   ],
   "source": [
    "x = np.random.randint(0, high=100, size=(3, 1))\n",
    "y = np.random.randint(0, high=100, size=(3, 1))\n",
    "\n",
    "print('X\\n', x, '\\n')\n",
    "print('X-Transposed\\n', x.transpose(), '\\n')\n",
    "print('Y\\n', y, '\\n')\n",
    "print('Y-Transposed\\n', y.transpose(), '\\n')\n",
    "\n",
    "xT_dot_y = np.dot(x.transpose(), y)\n",
    "yT_dot_x = np.dot(y.transpose(), x)\n",
    "\n",
    "print('xT.y\\n', xT_dot_y, '\\n')\n",
    "print('yT.x\\n', yT_dot_x, '\\n')\n",
    "xT_dot_y == yT_dot_x"
   ]
  },
  {
   "cell_type": "markdown",
   "metadata": {},
   "source": [
    "#### and finally \n",
    "## Simplification of the matrix product\n",
    "### Prove that  (A.B)<sup>T</sup> = B<sup>T</sup> . A<sup>T</sup>"
   ]
  },
  {
   "cell_type": "code",
   "execution_count": 37,
   "metadata": {},
   "outputs": [
    {
     "name": "stdout",
     "output_type": "stream",
     "text": [
      "(A.B)T \n",
      " [[16202  7162 10697  7632  9574]\n",
      " [ 8287  9836 13595  6788  7455]\n",
      " [ 7706  8620 10330  5217  6153]\n",
      " [12536  7356 12619  6307  8536]\n",
      " [15956  7226 12701  8916 10986]] \n",
      "\n",
      "BT.AT\n",
      " [[16202  7162 10697  7632  9574]\n",
      " [ 8287  9836 13595  6788  7455]\n",
      " [ 7706  8620 10330  5217  6153]\n",
      " [12536  7356 12619  6307  8536]\n",
      " [15956  7226 12701  8916 10986]] \n",
      "\n"
     ]
    },
    {
     "data": {
      "text/plain": [
       "array([[ True,  True,  True,  True,  True],\n",
       "       [ True,  True,  True,  True,  True],\n",
       "       [ True,  True,  True,  True,  True],\n",
       "       [ True,  True,  True,  True,  True],\n",
       "       [ True,  True,  True,  True,  True]])"
      ]
     },
     "execution_count": 37,
     "metadata": {},
     "output_type": "execute_result"
    }
   ],
   "source": [
    "A_dot_B_trans = np.dot(A, B).transpose()\n",
    "B_trans_dot_A_trans = np.dot(B.transpose(), A.transpose())\n",
    "\n",
    "print('(A.B)T \\n', A_dot_B_trans, '\\n')\n",
    "print('BT.AT\\n', B_trans_dot_A_trans, '\\n')\n",
    "A_dot_B_trans == B_trans_dot_A_trans"
   ]
  },
  {
   "cell_type": "markdown",
   "metadata": {},
   "source": [
    "## Summary \n",
    "\n",
    "So now we have seen enough matrix algebra to help us solve a problem of linear equations as we saw earlier in this section. We shall see how to do this next. "
   ]
  }
 ],
 "metadata": {
  "kernelspec": {
   "display_name": "Python 3",
   "language": "python",
   "name": "python3"
  },
  "language_info": {
   "codemirror_mode": {
    "name": "ipython",
    "version": 3
   },
   "file_extension": ".py",
   "mimetype": "text/x-python",
   "name": "python",
   "nbconvert_exporter": "python",
   "pygments_lexer": "ipython3",
   "version": "3.7.0"
  }
 },
 "nbformat": 4,
 "nbformat_minor": 2
}
